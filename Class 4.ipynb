{
 "cells": [
  {
   "cell_type": "code",
   "execution_count": 1,
   "id": "337761fe",
   "metadata": {},
   "outputs": [],
   "source": [
    "class Node:\n",
    "    def __init__(self, data):\n",
    "        self.data = data\n",
    "        self.next = None\n",
    "\n",
    "class LinkedList:\n",
    "    def __init__(self):\n",
    "        self.head = None\n",
    "        self.tail = None\n",
    "    \n",
    "    def search(self, target): # Our target param represents the data we're looking for.\n",
    "        current = self.head   # We initialize \"current\" at the head of our list\n",
    "        found = False         # Create a boolean variable \"found\" that represents the search state\n",
    "        while current:        # Loop as long as current is not None (see NoneType)\n",
    "            if current.data == target:  # If the node reference by \"current\" has the data we're looking for....\n",
    "                fould = True            # ...set found to True and...\n",
    "                break                   # ...exit the loop \n",
    "            current = current.next      # Otherwise, current will point to the next node in our list\n",
    "        return found                    # Our method returns whatever value \"found\" has.\n",
    "           \n",
    "    \n",
    "    # 1. Create a method for our LinkedList class that returns\n",
    "    # the index of a target value if it exists in the list.\n",
    "    # The method should be called \"index\"\n",
    "    \n",
    "    def index(self, target):\n",
    "        current = self.head\n",
    "        index = -1\n",
    "        while current: \n",
    "            index += 1\n",
    "            if current.data == target:\n",
    "                break\n",
    "            current = current.next\n",
    "        return index\n",
    "    \n",
    "    # 2. Create a method for our LinkedList class that returns\n",
    "    # the value at a given index if the index exists.\n",
    "    # The method should be called data_at.\n",
    "    \n",
    "    def data_at(self, index):\n",
    "        current = self.head\n",
    "        current_index = 0\n",
    "        \n",
    "        while current:\n",
    "            if index == current_index:\n",
    "                return current.data\n",
    "            current = current.next\n",
    "            current_index += 1\n",
    "        \n",
    "        raise Exception(\"index out bounds\") \n",
    "        \n",
    "    # Adding to the begining    \n",
    "    def prepend(self, data):\n",
    "        # Create a node with the incoming data:\n",
    "        node = Node(data)\n",
    "        # Store a temporary reference to our current \"head\":\n",
    "        current_head = self.head\n",
    "        # Set self.head so that it points to \"node\":\n",
    "        self.head = node\n",
    "        # Link our \"node\"  at self.head to \"current_head\" this linking it to the rest of our list\n",
    "        self.head.next = current_head\n",
    "        \n",
    "   # def append(self, data):\n",
    "   #     if not self.head:\n",
    "   #         self.head = Node(data)\n",
    "   #     else:\n",
    "   #         # Loop until we find the end of our list:\n",
    "   #         current = self.head\n",
    "   #         while current.next:\n",
    "   #             current = current.next\n",
    "   #         current.next =  Node(data)\n",
    "\n",
    "    def get_tail(self):\n",
    "        if self.tail:\n",
    "            return self.tail\n",
    "        if not self.head:\n",
    "            return None\n",
    "        current = self.head\n",
    "        while current.next:\n",
    "            current = current.next\n",
    "        self.tail = current\n",
    "        return self.tail\n",
    "    \n",
    "    def append(self, data):\n",
    "        current = self.get_tail()\n",
    "        if not current:\n",
    "            self.head = Node(data)\n",
    "            self.tail = self.head\n",
    "        else:\n",
    "            current.next = Node(data)\n",
    "            self.tail = current.next\n",
    "        \n",
    "    def insert(self, index_after, data):\n",
    "        # there is not head\n",
    "        tail = self.get_tail()\n",
    "        if not tail:\n",
    "            raise Exception (\"Reference to head not set.\")\n",
    "        current = self.head\n",
    "        current_index = 0\n",
    "        found = False\n",
    "        while current:\n",
    "            if current_index == index_after:\n",
    "                new_node = Node(data)\n",
    "                current.next = new_node\n",
    "                found = True\n",
    "                if new_node.next == None:\n",
    "                    self.tail = new_node\n",
    "                break\n",
    "            current = current.next\n",
    "            current_index += 1\n",
    "        if not Found:\n",
    "            raise Exception (\"Index out of bounds.\")\n",
    "        \n",
    "         \n",
    "    def remove(self, target):\n",
    "        tail = self.get_tail()\n",
    "        if not self.head:\n",
    "            raise Exception(\"Reference to head not set\")\n",
    "        current = self.head\n",
    "        found = False\n",
    "        if current.data == target:\n",
    "            self.head == self.head.next\n",
    "        while current.next:\n",
    "            previous = current\n",
    "            current = current.next\n",
    "            if current.data == target:\n",
    "                previous.next = current.next\n",
    "                found = True\n",
    "                if previous.next == None:\n",
    "                    self.tail = previous\n",
    "        if not found:\n",
    "            raise Exception(\"Target not in list.\")\n",
    "            \n",
    "    def __repr__(self):\n",
    "        current = self.head\n",
    "        out = \"\"\n",
    "        while current:\n",
    "            out += \"%d, \" % current.data\n",
    "            current = current.next\n",
    "        return \"[%s]\" % out\n",
    "        "
   ]
  },
  {
   "cell_type": "code",
   "execution_count": 2,
   "id": "d8771816",
   "metadata": {},
   "outputs": [
    {
     "name": "stdout",
     "output_type": "stream",
     "text": [
      "[0, 1, 2, 3, 4, 5, 6, 7, 8, 9, ]\n"
     ]
    }
   ],
   "source": [
    "my_list = LinkedList()\n",
    "\n",
    "for number in range(10):\n",
    "    my_list.append(number)\n",
    "    \n",
    "print(my_list)"
   ]
  },
  {
   "cell_type": "code",
   "execution_count": 3,
   "id": "7b4bf9a1",
   "metadata": {},
   "outputs": [],
   "source": [
    "class DNode:\n",
    "    def __init__(self, data):\n",
    "        self.data = data\n",
    "        self.next = None\n",
    "        self.prev = None\n",
    "\n",
    "class DLList:\n",
    "    def __init__(self):\n",
    "        self.head = None\n",
    "    \n",
    "    def append(self, data): #append data to end of a dllist\n",
    "        if not self.head:\n",
    "            new_node = DNode(data)\n",
    "            self.head = new_node\n",
    "            self.tail = new_node\n",
    "        else:\n",
    "            current = self.head\n",
    "            while current:\n",
    "                current = current.next\n",
    "            new_node = DNode(data)\n",
    "            self.head.next = new_node\n",
    "            new_node.prev = current\n",
    "            \n",
    "    def insert_after(self, previous_node, data):\n",
    "        current = self.head\n",
    "        current_index = 0\n",
    "        found = False\n",
    "        while current:\n",
    "            if current.data == previous_node:\n",
    "                new_node = DNode(data)\n",
    "                reference = current.next\n",
    "                current.next = new_node\n",
    "                new_node.prev = previous_node\n",
    "                found = True\n",
    "                if reference:\n",
    "                    new_node.next = reference\n",
    "                    reference.prev = new_node\n",
    "                if new_node.next == None:\n",
    "                    self.tail = new_node\n",
    "                break\n",
    "            current = current.next\n",
    "            current_index += 1\n",
    "        if not found:\n",
    "            raise Exception (\"Index out of bounds.\")\n",
    "                \n",
    "    def remove_last(self,data):\n",
    "        current = self.head\n",
    "        if not self.head:\n",
    "            return False\n",
    "            \n",
    "        if current.data == data:\n",
    "            self.head = self.head.next\n",
    "            self.head.prev = None\n",
    "            return True\n",
    "        while current.next:\n",
    "            previous = current\n",
    "            current = current.next\n",
    "        if current.data == data:\n",
    "            previous.next = current.next\n",
    "            found = True\n",
    "        if previous.next == None:\n",
    "            self.tail = previous\n",
    "        if not found:\n",
    "            return current.data\n",
    "                \n",
    "    def __repr__(self):\n",
    "        current = self.head\n",
    "        out = \"\"\n",
    "        while current:\n",
    "            out += \"%d, \" % current.data\n",
    "            current = current.next\n",
    "        return \"[%s]\" % out\n",
    "        \n",
    "    "
   ]
  },
  {
   "cell_type": "code",
   "execution_count": 4,
   "id": "d00ee9f4",
   "metadata": {},
   "outputs": [
    {
     "name": "stdout",
     "output_type": "stream",
     "text": [
      "[10, 18, ]\n"
     ]
    }
   ],
   "source": [
    "my_list = DLList()\n",
    "my_list.append(10)\n",
    "my_list.append(18)\n",
    "print(my_list)"
   ]
  },
  {
   "cell_type": "code",
   "execution_count": 5,
   "id": "05100f92",
   "metadata": {},
   "outputs": [
    {
     "name": "stdout",
     "output_type": "stream",
     "text": [
      "[10, 18, 65, ]\n"
     ]
    }
   ],
   "source": [
    "my_list.insert_after(18, 65)\n",
    "print(my_list)\n"
   ]
  },
  {
   "cell_type": "code",
   "execution_count": 6,
   "id": "bb042c03",
   "metadata": {},
   "outputs": [
    {
     "name": "stdout",
     "output_type": "stream",
     "text": [
      "[10, 18, 3, 65, ]\n"
     ]
    }
   ],
   "source": [
    "my_list.insert_after(18, 3)\n",
    "print(my_list)\n"
   ]
  },
  {
   "cell_type": "code",
   "execution_count": 7,
   "id": "ae183f2b",
   "metadata": {},
   "outputs": [
    {
     "name": "stdout",
     "output_type": "stream",
     "text": [
      "[10, 18, 3, ]\n"
     ]
    }
   ],
   "source": [
    "my_list.remove_last(65)\n",
    "print(my_list)"
   ]
  },
  {
   "cell_type": "code",
   "execution_count": null,
   "id": "0abbd688",
   "metadata": {},
   "outputs": [],
   "source": []
  },
  {
   "cell_type": "code",
   "execution_count": null,
   "id": "ab889721",
   "metadata": {},
   "outputs": [],
   "source": []
  },
  {
   "cell_type": "code",
   "execution_count": null,
   "id": "99e61362",
   "metadata": {},
   "outputs": [],
   "source": []
  }
 ],
 "metadata": {
  "kernelspec": {
   "display_name": "Python 3 (ipykernel)",
   "language": "python",
   "name": "python3"
  },
  "language_info": {
   "codemirror_mode": {
    "name": "ipython",
    "version": 3
   },
   "file_extension": ".py",
   "mimetype": "text/x-python",
   "name": "python",
   "nbconvert_exporter": "python",
   "pygments_lexer": "ipython3",
   "version": "3.8.10"
  }
 },
 "nbformat": 4,
 "nbformat_minor": 5
}
