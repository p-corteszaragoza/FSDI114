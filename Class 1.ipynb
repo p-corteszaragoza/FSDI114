{
 "cells": [
  {
   "cell_type": "markdown",
   "id": "27773411",
   "metadata": {},
   "source": [
    "print(\"Hello, world!\")"
   ]
  },
  {
   "cell_type": "code",
   "execution_count": 18,
   "id": "73e12880",
   "metadata": {},
   "outputs": [
    {
     "name": "stdout",
     "output_type": "stream",
     "text": [
      "h\n",
      "e\n",
      "l\n",
      "l\n",
      "o\n",
      ",\n",
      " \n",
      "w\n",
      "o\n",
      "r\n",
      "l\n",
      "d\n",
      "!\n"
     ]
    }
   ],
   "source": [
    "for letter in \"hello, world!\":\n",
    "    print(letter)"
   ]
  },
  {
   "cell_type": "markdown",
   "id": "137c42b0",
   "metadata": {},
   "source": [
    "# Problem #1\n",
    "### Given two strings (string_a and string_b) let's check whether or not they are anagrams of each other given the following criteria:\n",
    "> Two strings are only anagrams of each other if all conditions below are met:\n",
    "> * They must be exactly the same length\n",
    "> * They must use exactly the same characteres(no more, no less). Example: cars and scar, heart and earth, etc."
   ]
  },
  {
   "cell_type": "code",
   "execution_count": 19,
   "id": "ab7e4424",
   "metadata": {},
   "outputs": [],
   "source": [
    "def is_anagram(str_a, str_b):\n",
    "    string_a = str_a.upper().replace(\" \", \"\")\n",
    "    string_b = str_b.upper().replace(\" \", \"\")\n",
    "    \n",
    "    if len(string_a) != len(string_b):              # covering the length case\n",
    "        return False                                # Simple edge case.     \n",
    "    char_times_a = dict()                           # Lets use two dicts to count,\n",
    "    char_times_b = dict()                           # the number of ocurrences per char.\n",
    "    for i in range(len(string_a)):                  # Because we know these are equal len\n",
    "        if string_a[i] not in char_times_a.keys():  # We can simply count how many times we \n",
    "            char_times_a[string_a[i]] = 0           # see each character.\n",
    "        else: \n",
    "            char_times_a[string_a[i]] += 1\n",
    "        if string_b[i] not in char_times_b.keys():\n",
    "            char_times_b[string_b[i]] = 0           # It doesn't matter that these are    \n",
    "        else:                                       # different chars that i is accessing.\n",
    "            char_times_b[string_b[i]] += 1\n",
    "    # print(char_times_a)\n",
    "    # print(char_times_b)\n",
    "    return char_times_a == char_times_b              # ...As long as these two are equal."
   ]
  },
  {
   "cell_type": "code",
   "execution_count": 20,
   "id": "32c66c8e",
   "metadata": {
    "scrolled": true
   },
   "outputs": [
    {
     "data": {
      "text/plain": [
       "True"
      ]
     },
     "execution_count": 20,
     "metadata": {},
     "output_type": "execute_result"
    }
   ],
   "source": [
    "is_anagram(\"cars\", \"scar\")"
   ]
  },
  {
   "cell_type": "code",
   "execution_count": 21,
   "id": "6261599e",
   "metadata": {},
   "outputs": [
    {
     "data": {
      "text/plain": [
       "False"
      ]
     },
     "execution_count": 21,
     "metadata": {},
     "output_type": "execute_result"
    }
   ],
   "source": [
    "is_anagram(\"scxr\", \"scar\")"
   ]
  },
  {
   "cell_type": "code",
   "execution_count": 22,
   "id": "4083c7d9",
   "metadata": {},
   "outputs": [
    {
     "data": {
      "text/plain": [
       "True"
      ]
     },
     "execution_count": 22,
     "metadata": {},
     "output_type": "execute_result"
    }
   ],
   "source": [
    "is_anagram(\"star\",\"RATS\")"
   ]
  },
  {
   "cell_type": "code",
   "execution_count": 23,
   "id": "7767612a",
   "metadata": {},
   "outputs": [
    {
     "data": {
      "text/plain": [
       "True"
      ]
     },
     "execution_count": 23,
     "metadata": {},
     "output_type": "execute_result"
    }
   ],
   "source": [
    "is_anagram(\"I am lord voldemort\",\"Tom Marvolo Riddle\")"
   ]
  },
  {
   "cell_type": "markdown",
   "id": "9feed7a4",
   "metadata": {},
   "source": [
    "# Problem #2\n",
    "### Populate this function so that it reverses a string. It should return the string in reverse order.\n",
    "> Example\n",
    "> * rafael > leafar"
   ]
  },
  {
   "cell_type": "code",
   "execution_count": 24,
   "id": "ecde7de8",
   "metadata": {},
   "outputs": [],
   "source": [
    "class Stack:\n",
    "    def __init__(self):\n",
    "        self.items = []\n",
    "    \n",
    "    def is_empty(self):\n",
    "        return self.items == []\n",
    "    \n",
    "    def push(self, item):\n",
    "        self.items.append(item)\n",
    "    \n",
    "    def pop(self):\n",
    "        return self.items.pop()\n",
    "    \n",
    "    def peek(self):\n",
    "        return self.items[len(self.items) - 1]\n",
    "    \n",
    "    def size(self):\n",
    "        return len(self.items)"
   ]
  },
  {
   "cell_type": "code",
   "execution_count": 25,
   "id": "03727f77",
   "metadata": {},
   "outputs": [],
   "source": [
    "def reverse_str(s):\n",
    "    out = \"\"\n",
    "    stack = Stack()\n",
    "    for letter in s:\n",
    "        stack.push(letter)\n",
    "    while not stack.is_empty(): # is not true\n",
    "        out += stack.pop()\n",
    "    return out"
   ]
  },
  {
   "cell_type": "code",
   "execution_count": 26,
   "id": "55c3baf2",
   "metadata": {},
   "outputs": [
    {
     "data": {
      "text/plain": [
       "'aloap'"
      ]
     },
     "execution_count": 26,
     "metadata": {},
     "output_type": "execute_result"
    }
   ],
   "source": [
    "reverse_str(\"paola\")"
   ]
  },
  {
   "cell_type": "code",
   "execution_count": null,
   "id": "1297aa01",
   "metadata": {},
   "outputs": [],
   "source": []
  }
 ],
 "metadata": {
  "kernelspec": {
   "display_name": "Python 3 (ipykernel)",
   "language": "python",
   "name": "python3"
  },
  "language_info": {
   "codemirror_mode": {
    "name": "ipython",
    "version": 3
   },
   "file_extension": ".py",
   "mimetype": "text/x-python",
   "name": "python",
   "nbconvert_exporter": "python",
   "pygments_lexer": "ipython3",
   "version": "3.8.10"
  }
 },
 "nbformat": 4,
 "nbformat_minor": 5
}
