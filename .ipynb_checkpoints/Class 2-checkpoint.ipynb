{
 "cells": [
  {
   "cell_type": "code",
   "execution_count": 7,
   "id": "701eab07",
   "metadata": {},
   "outputs": [],
   "source": [
    "class Queue:\n",
    "    def __init__(self):\n",
    "        self.items = []\n",
    "    \n",
    "    def is_empty(self):\n",
    "        return self.items == []\n",
    "    \n",
    "    def enqueue(self, item):\n",
    "        self.items.insert(0, item)\n",
    "        \n",
    "    def dequeue(self):\n",
    "        return self.items.pop()\n",
    "    \n",
    "    def size(self):\n",
    "        return len(self.items)"
   ]
  },
  {
   "cell_type": "code",
   "execution_count": 10,
   "id": "af3b1d75",
   "metadata": {},
   "outputs": [],
   "source": [
    "from string import ascii_lowercase\n",
    "from random import randint, choice\n",
    "from time import sleep\n",
    "\n",
    "def register_visitors(visitor_queue):\n",
    "    for char in ascii_lowercase:\n",
    "        visitor_queue.enqueue(char)         # TODO: Enqueue visitors\n",
    "    \n",
    "def service_customers(visitor_queue):\n",
    "    bank_tellers = [\"A\", \"B\", \"C\", \"D\", \"E\", \"F\", \"G\"]\n",
    "    while not visitor_queue.is_empty() :     # make sure this works\n",
    "        visitor = visitor_queue.dequeue()    # TODO: Dequeue a visitor\n",
    "        print(\"Thank you for waiting %s, station %s is ready for you. \"\n",
    "             % (visitor, choice(bank_tellers)))\n",
    "        sleep(randint(1, 2))\n",
    "    print(\"Empty visitor queue.\")\n",
    "    \n",
    "def main():\n",
    "    visitor_queue = Queue()\n",
    "    register_visitors(visitor_queue)\n",
    "    service_customers(visitor_queue)"
   ]
  },
  {
   "cell_type": "code",
   "execution_count": 11,
   "id": "cec872b7",
   "metadata": {},
   "outputs": [
    {
     "name": "stdout",
     "output_type": "stream",
     "text": [
      "Thank you for waiting a, station D is ready for you. \n",
      "Thank you for waiting b, station A is ready for you. \n",
      "Thank you for waiting c, station C is ready for you. \n",
      "Thank you for waiting d, station B is ready for you. \n",
      "Thank you for waiting e, station E is ready for you. \n",
      "Thank you for waiting f, station D is ready for you. \n",
      "Thank you for waiting g, station B is ready for you. \n",
      "Thank you for waiting h, station C is ready for you. \n",
      "Thank you for waiting i, station F is ready for you. \n",
      "Thank you for waiting j, station C is ready for you. \n",
      "Thank you for waiting k, station E is ready for you. \n",
      "Thank you for waiting l, station G is ready for you. \n",
      "Thank you for waiting m, station E is ready for you. \n",
      "Thank you for waiting n, station D is ready for you. \n",
      "Thank you for waiting o, station F is ready for you. \n",
      "Thank you for waiting p, station B is ready for you. \n",
      "Thank you for waiting q, station A is ready for you. \n",
      "Thank you for waiting r, station G is ready for you. \n",
      "Thank you for waiting s, station C is ready for you. \n",
      "Thank you for waiting t, station B is ready for you. \n",
      "Thank you for waiting u, station G is ready for you. \n",
      "Thank you for waiting v, station B is ready for you. \n",
      "Thank you for waiting w, station D is ready for you. \n",
      "Thank you for waiting x, station B is ready for you. \n",
      "Thank you for waiting y, station D is ready for you. \n",
      "Thank you for waiting z, station D is ready for you. \n",
      "Empty visitor queue.\n"
     ]
    }
   ],
   "source": [
    "main()"
   ]
  },
  {
   "cell_type": "code",
   "execution_count": 13,
   "id": "1591ba97",
   "metadata": {},
   "outputs": [],
   "source": [
    "class Stack:\n",
    "    def __init__(self):\n",
    "        self.items = []\n",
    "    \n",
    "    def is_empty(self):\n",
    "        return self.items == []\n",
    "    \n",
    "    def push(self, item):\n",
    "        self.items.append(item)\n",
    "    \n",
    "    def pop(self):\n",
    "        return self.items.pop()\n",
    "    \n",
    "    def peek(self):\n",
    "        return self.items[len(self.items) - 1]\n",
    "    \n",
    "    def size(self):\n",
    "        return len(self.items)"
   ]
  },
  {
   "cell_type": "code",
   "execution_count": 19,
   "id": "5b0c4f5c",
   "metadata": {},
   "outputs": [],
   "source": [
    "def balance_check(s):\n",
    "    if len(s)%2 != 0:\n",
    "        return False\n",
    "    opening = set(\"([{\")\n",
    "    matches = set ([(\"(\", \")\"), (\"[\", \"]\"), (\"{\", \"}\")])\n",
    "    stack = Stack()\n",
    "    for paren in s:\n",
    "        if paren in opening:\n",
    "            stack.push(paren)\n",
    "        else:\n",
    "            if stack.is_empty():\n",
    "                return False\n",
    "            last_open = stack.pop()\n",
    "            if(last_open, paren) not in matches:\n",
    "                return False\n",
    "    return stack.is_empty()\n"
   ]
  },
  {
   "cell_type": "code",
   "execution_count": 20,
   "id": "faeebfef",
   "metadata": {},
   "outputs": [
    {
     "data": {
      "text/plain": [
       "True"
      ]
     },
     "execution_count": 20,
     "metadata": {},
     "output_type": "execute_result"
    }
   ],
   "source": [
    "balance_check(\"([{([])}])\")"
   ]
  },
  {
   "cell_type": "code",
   "execution_count": 21,
   "id": "7293aa24",
   "metadata": {},
   "outputs": [
    {
     "data": {
      "text/plain": [
       "False"
      ]
     },
     "execution_count": 21,
     "metadata": {},
     "output_type": "execute_result"
    }
   ],
   "source": [
    "balance_check(\"({}])\")"
   ]
  },
  {
   "cell_type": "code",
   "execution_count": 22,
   "id": "46ec950a",
   "metadata": {},
   "outputs": [],
   "source": [
    "def test():\n",
    "    q = Queue2Stacks()\n",
    "    for i in range(5):\n",
    "        q.enqueue(i)\n",
    "    for i in range(5):\n",
    "        print(q.dequeue())"
   ]
  },
  {
   "cell_type": "code",
   "execution_count": null,
   "id": "280bc840",
   "metadata": {},
   "outputs": [],
   "source": []
  },
  {
   "cell_type": "code",
   "execution_count": null,
   "id": "82235c1f",
   "metadata": {},
   "outputs": [],
   "source": []
  }
 ],
 "metadata": {
  "kernelspec": {
   "display_name": "Python 3 (ipykernel)",
   "language": "python",
   "name": "python3"
  },
  "language_info": {
   "codemirror_mode": {
    "name": "ipython",
    "version": 3
   },
   "file_extension": ".py",
   "mimetype": "text/x-python",
   "name": "python",
   "nbconvert_exporter": "python",
   "pygments_lexer": "ipython3",
   "version": "3.8.10"
  }
 },
 "nbformat": 4,
 "nbformat_minor": 5
}
