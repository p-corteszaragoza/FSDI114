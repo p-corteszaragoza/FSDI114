{
 "cells": [
  {
   "cell_type": "markdown",
   "id": "27773411",
   "metadata": {},
   "source": [
    "print(\"Hello, world!\")"
   ]
  },
  {
   "cell_type": "code",
   "execution_count": 12,
   "id": "73e12880",
   "metadata": {},
   "outputs": [
    {
     "name": "stdout",
     "output_type": "stream",
     "text": [
      "h\n",
      "e\n",
      "l\n",
      "l\n",
      "o\n",
      ",\n",
      " \n",
      "w\n",
      "o\n",
      "r\n",
      "l\n",
      "d\n",
      "!\n"
     ]
    }
   ],
   "source": [
    "for letter in \"hello, world!\":\n",
    "    print(letter)"
   ]
  },
  {
   "cell_type": "markdown",
   "id": "137c42b0",
   "metadata": {},
   "source": [
    "# Problem #1\n",
    "### Given two strings (string_a and string_b) let's check whether or not they are anagrams of each other given the following criteria:\n",
    "> Two strings are only anagrams of each other if all conditions below are met:\n",
    "> * They must be exactly the same length\n",
    "> * They must use exactly the same characteres(no more, no less). Example: cars and scar, heart and earth, etc."
   ]
  },
  {
   "cell_type": "code",
   "execution_count": 13,
   "id": "ab7e4424",
   "metadata": {},
   "outputs": [],
   "source": [
    "def is_anagram(str_a, str_b):\n",
    "    string_a = str_a.upper().replace(\" \", \"\")\n",
    "    string_b = str_b.upper().replace(\" \", \"\")\n",
    "    \n",
    "    if len(string_a) != len(string_b):              # covering the length case\n",
    "        return False                                # Simple edge case.     \n",
    "    char_times_a = dict()                           # Lets use two dicts to count,\n",
    "    char_times_b = dict()                           # the number of ocurrences per char.\n",
    "    for i in range(len(string_a)):                  # Because we know these are equal len\n",
    "        if string_a[i] not in char_times_a.keys():  # We can simply count how many times we \n",
    "            char_times_a[string_a[i]] = 0           # see each character.\n",
    "        else: \n",
    "            char_times_a[string_a[i]] += 1\n",
    "        if string_b[i] not in char_times_b.keys():\n",
    "            char_times_b[string_b[i]] = 0           # It doesn't matter that these are    \n",
    "        else:                                       # different chars that i is accessing.\n",
    "            char_times_b[string_b[i]] += 1\n",
    "    # print(char_times_a)\n",
    "    # print(char_times_b)\n",
    "    return char_times_a == char_times_b              # ...As long as these two are equal."
   ]
  },
  {
   "cell_type": "code",
   "execution_count": 14,
   "id": "32c66c8e",
   "metadata": {
    "scrolled": true
   },
   "outputs": [
    {
     "data": {
      "text/plain": [
       "True"
      ]
     },
     "execution_count": 14,
     "metadata": {},
     "output_type": "execute_result"
    }
   ],
   "source": [
    "is_anagram(\"cars\", \"scar\")"
   ]
  },
  {
   "cell_type": "code",
   "execution_count": 15,
   "id": "6261599e",
   "metadata": {},
   "outputs": [
    {
     "data": {
      "text/plain": [
       "False"
      ]
     },
     "execution_count": 15,
     "metadata": {},
     "output_type": "execute_result"
    }
   ],
   "source": [
    "is_anagram(\"scxr\", \"scar\")"
   ]
  },
  {
   "cell_type": "code",
   "execution_count": 16,
   "id": "4083c7d9",
   "metadata": {},
   "outputs": [
    {
     "data": {
      "text/plain": [
       "True"
      ]
     },
     "execution_count": 16,
     "metadata": {},
     "output_type": "execute_result"
    }
   ],
   "source": [
    "is_anagram(\"star\",\"RATS\")"
   ]
  },
  {
   "cell_type": "code",
   "execution_count": 17,
   "id": "7767612a",
   "metadata": {},
   "outputs": [
    {
     "data": {
      "text/plain": [
       "True"
      ]
     },
     "execution_count": 17,
     "metadata": {},
     "output_type": "execute_result"
    }
   ],
   "source": [
    "is_anagram(\"I am lord voldemort\",\"Tom Marvolo Riddle\")"
   ]
  },
  {
   "cell_type": "markdown",
   "id": "9feed7a4",
   "metadata": {},
   "source": [
    "# Problem #2\n",
    "### Populate this function so that it reverses a string. It should return the string in reverse order.\n",
    "> Example\n",
    "> * rafael > leafar"
   ]
  },
  {
   "cell_type": "code",
   "execution_count": 18,
   "id": "ecde7de8",
   "metadata": {},
   "outputs": [],
   "source": [
    "class Stack:\n",
    "    def __init__(self):\n",
    "        self.items = []\n",
    "    \n",
    "    def is_empty(self):\n",
    "        return self.items == []\n",
    "    \n",
    "    def push(self, item):\n",
    "        self.items.append(item)\n",
    "    \n",
    "    def pop(self):\n",
    "        return self.items.pop()\n",
    "    \n",
    "    def peek(self):\n",
    "        return self.items[len(self.items) - 1]\n",
    "    \n",
    "    def size(self):\n",
    "        return len(self.items)"
   ]
  },
  {
   "cell_type": "code",
   "execution_count": 19,
   "id": "03727f77",
   "metadata": {},
   "outputs": [],
   "source": [
    "def reverse_str(s):\n",
    "    out = \"\"\n",
    "    stack = Stack()\n",
    "    for letter in s:\n",
    "        stack.push(letter)\n",
    "    while not stack.is_empty(): # is not true\n",
    "        out += stack.pop()\n",
    "    return out"
   ]
  },
  {
   "cell_type": "code",
   "execution_count": 20,
   "id": "55c3baf2",
   "metadata": {},
   "outputs": [
    {
     "data": {
      "text/plain": [
       "'aloap'"
      ]
     },
     "execution_count": 20,
     "metadata": {},
     "output_type": "execute_result"
    }
   ],
   "source": [
    "reverse_str(\"paola\")"
   ]
  },
  {
   "cell_type": "markdown",
   "id": "59e4bfd4",
   "metadata": {},
   "source": [
    "# Problem 2\n",
    "## Using our stack class, determine whether or not an incoming string is a palindrome.\n",
    "\n",
    "### Remember: Palindromes are words that are spelled the same way backwards. For example: racecar"
   ]
  },
  {
   "cell_type": "code",
   "execution_count": 21,
   "id": "7f8388b5",
   "metadata": {},
   "outputs": [],
   "source": [
    "def is_palindrome(s):\n",
    "    out = \"\"\n",
    "    copy = str(s)\n",
    "    print(\"copy: \" , copy)\n",
    "    stack = Stack()\n",
    "    for letter in s:\n",
    "        stack.push(letter)\n",
    "    while not stack.is_empty(): # is not true\n",
    "        out += stack.pop()\n",
    "    if copy == out:\n",
    "        return True\n",
    "    return False"
   ]
  },
  {
   "cell_type": "code",
   "execution_count": 22,
   "id": "4161a1c2",
   "metadata": {},
   "outputs": [
    {
     "name": "stdout",
     "output_type": "stream",
     "text": [
      "copy:  racecar\n"
     ]
    },
    {
     "data": {
      "text/plain": [
       "True"
      ]
     },
     "execution_count": 22,
     "metadata": {},
     "output_type": "execute_result"
    }
   ],
   "source": [
    "is_palindrome(\"racecar\")"
   ]
  },
  {
   "cell_type": "code",
   "execution_count": 23,
   "id": "94a73c65",
   "metadata": {},
   "outputs": [
    {
     "name": "stdout",
     "output_type": "stream",
     "text": [
      "copy:  ana\n"
     ]
    },
    {
     "data": {
      "text/plain": [
       "True"
      ]
     },
     "execution_count": 23,
     "metadata": {},
     "output_type": "execute_result"
    }
   ],
   "source": [
    "is_palindrome(\"ana\")"
   ]
  },
  {
   "cell_type": "code",
   "execution_count": 24,
   "id": "5d7ede7f",
   "metadata": {},
   "outputs": [
    {
     "name": "stdout",
     "output_type": "stream",
     "text": [
      "copy:  paola\n"
     ]
    },
    {
     "data": {
      "text/plain": [
       "False"
      ]
     },
     "execution_count": 24,
     "metadata": {},
     "output_type": "execute_result"
    }
   ],
   "source": [
    "is_palindrome(\"paola\")"
   ]
  },
  {
   "cell_type": "markdown",
   "id": "694dc9b5",
   "metadata": {},
   "source": [
    "# Problem 3\n",
    "## Using our stack class implement a back button so that the stack returns the last visited URL when the user requests it.\n",
    "\n",
    "### Fist, we'll load 10 urls into the stack(to mock data) then we'll prompt our users, asking them if they'd like the last visited URL.\n",
    "\n",
    "#### On start up: load 10 urls. During run time: prompt user, ask if they want the last (visited) URL\n"
   ]
  },
  {
   "cell_type": "code",
   "execution_count": 25,
   "id": "d83a8e37",
   "metadata": {},
   "outputs": [],
   "source": [
    "urls = [\n",
    "    \"www.google.com\",\n",
    "    \"twitter.com\",\n",
    "    \"facebook.com\",\n",
    "    \"duckduckgo.com\",\n",
    "    \"sdgku.edu\",\n",
    "    \"something.com\",\n",
    "    \"example.com\",\n",
    "    \"mywebpage.com\",\n",
    "    \"gmail.com\",\n",
    "    \"hotmail.com\"\n",
    "]\n"
   ]
  },
  {
   "cell_type": "code",
   "execution_count": 26,
   "id": "dea64c0d",
   "metadata": {},
   "outputs": [
    {
     "name": "stdout",
     "output_type": "stream",
     "text": [
      "What?\n",
      "Hello !\n"
     ]
    }
   ],
   "source": [
    "x = input(\"What?\")\n",
    "print(\"Hello %s!\" % x)"
   ]
  },
  {
   "cell_type": "code",
   "execution_count": 32,
   "id": "8c07f090",
   "metadata": {},
   "outputs": [],
   "source": [
    "def request_url(list_urls):\n",
    "    stack = Stack()\n",
    "    user_input = \"yes\"\n",
    "    for url in list_urls:\n",
    "        stack.push(url)\n",
    "    while user_input != \"no\" and not stack.is_empty():   \n",
    "        user_input = input(\"Do you want the last URL?\")\n",
    "        if user_input == \"yes\":\n",
    "            print(\"Last url %s \" % stack.pop())\n",
    "        else:\n",
    "            print(\"No more elements in stack!\")\n",
    "        \n",
    "         "
   ]
  },
  {
   "cell_type": "code",
   "execution_count": 33,
   "id": "28f4ea49",
   "metadata": {},
   "outputs": [
    {
     "name": "stdout",
     "output_type": "stream",
     "text": [
      "Do you want the last URL?yes\n",
      "Last url hotmail.com \n",
      "Do you want the last URL?yes\n",
      "Last url gmail.com \n",
      "Do you want the last URL?yes\n",
      "Last url mywebpage.com \n",
      "Do you want the last URL?yes\n",
      "Last url example.com \n",
      "Do you want the last URL?yes\n",
      "Last url something.com \n",
      "Do you want the last URL?yes\n",
      "Last url sdgku.edu \n",
      "Do you want the last URL?yes\n",
      "Last url duckduckgo.com \n",
      "Do you want the last URL?yes\n",
      "Last url facebook.com \n",
      "Do you want the last URL?yes\n",
      "Last url twitter.com \n",
      "Do you want the last URL?yes\n",
      "Last url www.google.com \n"
     ]
    }
   ],
   "source": [
    "request_url(urls)"
   ]
  },
  {
   "cell_type": "code",
   "execution_count": null,
   "id": "1c969577",
   "metadata": {},
   "outputs": [],
   "source": []
  }
 ],
 "metadata": {
  "kernelspec": {
   "display_name": "Python 3 (ipykernel)",
   "language": "python",
   "name": "python3"
  },
  "language_info": {
   "codemirror_mode": {
    "name": "ipython",
    "version": 3
   },
   "file_extension": ".py",
   "mimetype": "text/x-python",
   "name": "python",
   "nbconvert_exporter": "python",
   "pygments_lexer": "ipython3",
   "version": "3.8.10"
  }
 },
 "nbformat": 4,
 "nbformat_minor": 5
}
